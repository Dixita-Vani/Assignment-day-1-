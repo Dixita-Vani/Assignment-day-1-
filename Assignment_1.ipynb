{
  "nbformat": 4,
  "nbformat_minor": 0,
  "metadata": {
    "colab": {
      "name": "Assignment 1.ipynb",
      "provenance": [],
      "collapsed_sections": [],
      "authorship_tag": "ABX9TyNFRlP8XcpY5vpd7C6nBHox",
      "include_colab_link": true
    },
    "kernelspec": {
      "name": "python3",
      "display_name": "Python 3"
    }
  },
  "cells": [
    {
      "cell_type": "markdown",
      "metadata": {
        "id": "view-in-github",
        "colab_type": "text"
      },
      "source": [
        "<a href=\"https://colab.research.google.com/github/Dixita-Vani/Assignment-day-1-/blob/main/Assignment_1.ipynb\" target=\"_parent\"><img src=\"https://colab.research.google.com/assets/colab-badge.svg\" alt=\"Open In Colab\"/></a>"
      ]
    },
    {
      "cell_type": "code",
      "metadata": {
        "colab": {
          "base_uri": "https://localhost:8080/"
        },
        "id": "huQ3tmZt79s5",
        "outputId": "80ca1968-6295-43db-a91d-cae86afbca0b"
      },
      "source": [
        "Alist=[1,2,3,\"Hello\",\"world\"]\n",
        "Blist=[\"welcome\",\"to\",\"python\"]\n",
        "Alist.extend(Blist)\n",
        "print (\"Extended list:\",Alist)"
      ],
      "execution_count": 9,
      "outputs": [
        {
          "output_type": "stream",
          "text": [
            "Extended list: [1, 2, 3, 'Hello', 'world', 'welcome', 'to', 'python']\n"
          ],
          "name": "stdout"
        }
      ]
    },
    {
      "cell_type": "code",
      "metadata": {
        "colab": {
          "base_uri": "https://localhost:8080/"
        },
        "id": "e6J9AAwjFG9d",
        "outputId": "9a31b78d-e449-4050-c179-b7bfe6ec7e9c"
      },
      "source": [
        "Alist=[\"welcome\",\"to\",\"python\"]\n",
        "print (\"Index for welcome:\",Alist.index('welcome'))"
      ],
      "execution_count": 11,
      "outputs": [
        {
          "output_type": "stream",
          "text": [
            "Index for welcome: 0\n"
          ],
          "name": "stdout"
        }
      ]
    },
    {
      "cell_type": "code",
      "metadata": {
        "colab": {
          "base_uri": "https://localhost:8080/"
        },
        "id": "7ekVlLEYFzj0",
        "outputId": "0678dac9-ad6a-4276-e92b-98506aa375e2"
      },
      "source": [
        "Alist=[\"welcome\",\"to\",\"python\"]\n",
        "print (\"Alist : \",Alist.pop(2))"
      ],
      "execution_count": 13,
      "outputs": [
        {
          "output_type": "stream",
          "text": [
            "Alist :  python\n"
          ],
          "name": "stdout"
        }
      ]
    },
    {
      "cell_type": "code",
      "metadata": {
        "colab": {
          "base_uri": "https://localhost:8080/"
        },
        "id": "tpVjLnUnGJRZ",
        "outputId": "d90d25dd-d4b7-40b5-e2c5-617acde4f563"
      },
      "source": [
        " Alist=[\"welcome\",\"to\",\"python\"]\n",
        " Alist.reverse();\n",
        "print (\"Reversed list\",Alist)"
      ],
      "execution_count": 17,
      "outputs": [
        {
          "output_type": "stream",
          "text": [
            "Reversed list ['python', 'to', 'welcome']\n"
          ],
          "name": "stdout"
        }
      ]
    },
    {
      "cell_type": "code",
      "metadata": {
        "colab": {
          "base_uri": "https://localhost:8080/"
        },
        "id": "1AyOtI1cGulo",
        "outputId": "c9c1e3c9-2d02-4b51-806c-999831dab125"
      },
      "source": [
        " Alist=[\"welcome\",\"to\",\"python\"]\n",
        "Alist.sort();\n",
        "print (\"sorted list : \",Alist)"
      ],
      "execution_count": 19,
      "outputs": [
        {
          "output_type": "stream",
          "text": [
            "sorted list :  ['python', 'to', 'welcome']\n"
          ],
          "name": "stdout"
        }
      ]
    }
  ]
}